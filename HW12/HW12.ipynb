{
 "cells": [
  {
   "cell_type": "code",
   "execution_count": 1,
   "metadata": {
    "id": "AHd4r6qSf8c9"
   },
   "outputs": [],
   "source": [
    "import tensorflow as tf\n",
    "\n",
    "from keras.applications.vgg16 import VGG16\n",
    "from keras import models\n",
    "from keras import layers\n",
    "from keras.preprocessing.image import ImageDataGenerator\n",
    "from keras import optimizers\n",
    "from keras.utils import to_categorical\n",
    "from keras.datasets import fashion_mnist\n",
    "\n",
    "from keras.utils import img_to_array, array_to_img\n",
    "\n",
    "import numpy as np\n",
    "import pandas as pd\n",
    "\n",
    "import matplotlib.pyplot as plt "
   ]
  },
  {
   "cell_type": "code",
   "execution_count": 2,
   "metadata": {
    "colab": {
     "base_uri": "https://localhost:8080/"
    },
    "id": "r4jjFogZgDG3",
    "outputId": "699d40fc-0d49-4546-a5ec-393486d75dda"
   },
   "outputs": [
    {
     "name": "stdout",
     "output_type": "stream",
     "text": [
      "Downloading data from https://storage.googleapis.com/tensorflow/keras-applications/vgg16/vgg16_weights_tf_dim_ordering_tf_kernels_notop.h5\n",
      "58889256/58889256 [==============================] - 1s 0us/step\n"
     ]
    }
   ],
   "source": [
    "conv_base = VGG16(weights=\"imagenet\", include_top=False, input_shape=(48, 48, 3))\n",
    "conv_base.trainable = True\n",
    "set_trainable = False\n",
    "\n",
    "\n",
    "for layer in conv_base.layers:\n",
    "    if layer.name in [\"block5_conv1\", \"block5_conv2\", \"block5_conv3\"]:\n",
    "        set_trainable = True\n",
    "    if set_trainable:\n",
    "        layer.trainable = True\n",
    "    else:\n",
    "        layer.trainable = False\n",
    "\n",
    "model = models.Sequential([\n",
    "   conv_base,\n",
    "   layers.Flatten(),\n",
    "   layers.Dense(256, activation=\"sigmoid\"),\n",
    "   layers.Dense(10, activation=\"softmax\"),\n",
    "])\n",
    "\n",
    "model.compile(\n",
    "    loss=\"binary_crossentropy\",\n",
    "    optimizer=tf.keras.optimizers.RMSprop(learning_rate=2e-5),\n",
    "    metrics=[\"acc\"]\n",
    ")"
   ]
  },
  {
   "cell_type": "code",
   "execution_count": 3,
   "metadata": {
    "colab": {
     "base_uri": "https://localhost:8080/"
    },
    "id": "-t7ieNbKgFe7",
    "outputId": "71ce800d-aed8-4d07-85e1-403d87d27133"
   },
   "outputs": [
    {
     "name": "stdout",
     "output_type": "stream",
     "text": [
      "Model: \"sequential\"\n",
      "_________________________________________________________________\n",
      " Layer (type)                Output Shape              Param #   \n",
      "=================================================================\n",
      " vgg16 (Functional)          (None, 1, 1, 512)         14714688  \n",
      "                                                                 \n",
      " flatten (Flatten)           (None, 512)               0         \n",
      "                                                                 \n",
      " dense (Dense)               (None, 256)               131328    \n",
      "                                                                 \n",
      " dense_1 (Dense)             (None, 10)                2570      \n",
      "                                                                 \n",
      "=================================================================\n",
      "Total params: 14,848,586\n",
      "Trainable params: 7,213,322\n",
      "Non-trainable params: 7,635,264\n",
      "_________________________________________________________________\n"
     ]
    }
   ],
   "source": [
    "model.summary()"
   ]
  },
  {
   "cell_type": "code",
   "execution_count": 4,
   "metadata": {
    "colab": {
     "base_uri": "https://localhost:8080/"
    },
    "id": "uqBJ8C9yg61H",
    "outputId": "6f9bfa2a-d86a-490e-cae4-31c4af86525e"
   },
   "outputs": [
    {
     "name": "stdout",
     "output_type": "stream",
     "text": [
      "Downloading data from https://storage.googleapis.com/tensorflow/tf-keras-datasets/train-labels-idx1-ubyte.gz\n",
      "29515/29515 [==============================] - 0s 0us/step\n",
      "Downloading data from https://storage.googleapis.com/tensorflow/tf-keras-datasets/train-images-idx3-ubyte.gz\n",
      "26421880/26421880 [==============================] - 0s 0us/step\n",
      "Downloading data from https://storage.googleapis.com/tensorflow/tf-keras-datasets/t10k-labels-idx1-ubyte.gz\n",
      "5148/5148 [==============================] - 0s 0us/step\n",
      "Downloading data from https://storage.googleapis.com/tensorflow/tf-keras-datasets/t10k-images-idx3-ubyte.gz\n",
      "4422102/4422102 [==============================] - 0s 0us/step\n"
     ]
    }
   ],
   "source": [
    "(x_train, y_train), (x_test, y_test) = fashion_mnist.load_data()"
   ]
  },
  {
   "cell_type": "code",
   "execution_count": 5,
   "metadata": {
    "id": "NS0pw46Zkun-"
   },
   "outputs": [],
   "source": [
    "x_train = np.dstack([x_train] * 3)\n",
    "x_train = x_train.reshape((-1, 28, 28, 3))\n",
    "x_train = np.asarray([img_to_array(array_to_img(im, scale=False).resize((48,48))) for im in x_train])\n",
    "x_train = x_train.astype(\"float32\") / 255\n",
    "\n",
    "x_test = np.dstack([x_test]*3)\n",
    "x_test = x_test.reshape((-1, 28, 28, 3))\n",
    "x_test = np.asarray([img_to_array(array_to_img(im, scale=False).resize((48,48))) for im in x_test])\n",
    "x_test = x_test.astype(\"float32\") / 255\n",
    "\n",
    "y_train = to_categorical(y_train)\n",
    "y_test = to_categorical(y_test)"
   ]
  },
  {
   "cell_type": "code",
   "execution_count": 6,
   "metadata": {
    "colab": {
     "base_uri": "https://localhost:8080/"
    },
    "id": "WhW5zfCtk1cA",
    "outputId": "8e8035c6-ff4b-40f0-888f-37116726285f"
   },
   "outputs": [
    {
     "name": "stdout",
     "output_type": "stream",
     "text": [
      "Epoch 1/50\n",
      "500/500 [==============================] - 38s 55ms/step - loss: 0.1708 - acc: 0.7591 - val_loss: 0.1142 - val_acc: 0.8262\n",
      "Epoch 2/50\n",
      "500/500 [==============================] - 29s 58ms/step - loss: 0.0999 - acc: 0.8414 - val_loss: 0.0891 - val_acc: 0.8507\n",
      "Epoch 3/50\n",
      "500/500 [==============================] - 25s 50ms/step - loss: 0.0827 - acc: 0.8596 - val_loss: 0.0795 - val_acc: 0.8572\n",
      "Epoch 4/50\n",
      "500/500 [==============================] - 27s 54ms/step - loss: 0.0728 - acc: 0.8719 - val_loss: 0.0716 - val_acc: 0.8673\n",
      "Epoch 5/50\n",
      "500/500 [==============================] - 28s 55ms/step - loss: 0.0667 - acc: 0.8799 - val_loss: 0.0659 - val_acc: 0.8757\n",
      "Epoch 6/50\n",
      "500/500 [==============================] - 25s 51ms/step - loss: 0.0620 - acc: 0.8859 - val_loss: 0.0614 - val_acc: 0.8833\n",
      "Epoch 7/50\n",
      "500/500 [==============================] - 27s 55ms/step - loss: 0.0585 - acc: 0.8912 - val_loss: 0.0589 - val_acc: 0.8857\n",
      "Epoch 8/50\n",
      "500/500 [==============================] - 26s 51ms/step - loss: 0.0554 - acc: 0.8956 - val_loss: 0.0578 - val_acc: 0.8846\n",
      "Epoch 9/50\n",
      "500/500 [==============================] - 25s 51ms/step - loss: 0.0532 - acc: 0.8984 - val_loss: 0.0565 - val_acc: 0.8864\n",
      "Epoch 10/50\n",
      "500/500 [==============================] - 25s 51ms/step - loss: 0.0511 - acc: 0.9026 - val_loss: 0.0553 - val_acc: 0.8873\n",
      "Epoch 11/50\n",
      "500/500 [==============================] - 27s 55ms/step - loss: 0.0493 - acc: 0.9062 - val_loss: 0.0539 - val_acc: 0.8911\n",
      "Epoch 12/50\n",
      "500/500 [==============================] - 25s 51ms/step - loss: 0.0475 - acc: 0.9094 - val_loss: 0.0554 - val_acc: 0.8879\n",
      "Epoch 13/50\n",
      "500/500 [==============================] - 27s 55ms/step - loss: 0.0460 - acc: 0.9115 - val_loss: 0.0527 - val_acc: 0.8911\n",
      "Epoch 14/50\n",
      "500/500 [==============================] - 25s 51ms/step - loss: 0.0445 - acc: 0.9145 - val_loss: 0.0570 - val_acc: 0.8851\n",
      "Epoch 15/50\n",
      "500/500 [==============================] - 27s 54ms/step - loss: 0.0430 - acc: 0.9170 - val_loss: 0.0543 - val_acc: 0.8886\n",
      "Epoch 16/50\n",
      "500/500 [==============================] - 25s 51ms/step - loss: 0.0417 - acc: 0.9204 - val_loss: 0.0508 - val_acc: 0.8946\n",
      "Epoch 17/50\n",
      "500/500 [==============================] - 25s 51ms/step - loss: 0.0404 - acc: 0.9227 - val_loss: 0.0514 - val_acc: 0.8971\n",
      "Epoch 18/50\n",
      "500/500 [==============================] - 27s 55ms/step - loss: 0.0394 - acc: 0.9246 - val_loss: 0.0488 - val_acc: 0.9015\n",
      "Epoch 19/50\n",
      "500/500 [==============================] - 25s 51ms/step - loss: 0.0382 - acc: 0.9267 - val_loss: 0.0497 - val_acc: 0.9020\n",
      "Epoch 20/50\n",
      "500/500 [==============================] - 27s 54ms/step - loss: 0.0371 - acc: 0.9290 - val_loss: 0.0491 - val_acc: 0.9002\n",
      "Epoch 21/50\n",
      "500/500 [==============================] - 27s 54ms/step - loss: 0.0359 - acc: 0.9313 - val_loss: 0.0489 - val_acc: 0.9026\n",
      "Epoch 22/50\n",
      "500/500 [==============================] - 25s 50ms/step - loss: 0.0346 - acc: 0.9337 - val_loss: 0.0504 - val_acc: 0.8988\n",
      "Epoch 23/50\n",
      "500/500 [==============================] - 25s 50ms/step - loss: 0.0334 - acc: 0.9369 - val_loss: 0.0507 - val_acc: 0.8961\n",
      "Epoch 24/50\n",
      "500/500 [==============================] - 25s 51ms/step - loss: 0.0325 - acc: 0.9382 - val_loss: 0.0528 - val_acc: 0.8930\n",
      "Epoch 25/50\n",
      "500/500 [==============================] - 27s 54ms/step - loss: 0.0315 - acc: 0.9401 - val_loss: 0.0489 - val_acc: 0.9050\n",
      "Epoch 26/50\n",
      "500/500 [==============================] - 25s 50ms/step - loss: 0.0302 - acc: 0.9425 - val_loss: 0.0500 - val_acc: 0.9005\n",
      "Epoch 27/50\n",
      "500/500 [==============================] - 25s 50ms/step - loss: 0.0294 - acc: 0.9449 - val_loss: 0.0527 - val_acc: 0.8964\n",
      "Epoch 28/50\n",
      "500/500 [==============================] - 25s 50ms/step - loss: 0.0284 - acc: 0.9469 - val_loss: 0.0516 - val_acc: 0.9016\n",
      "Epoch 29/50\n",
      "500/500 [==============================] - 27s 54ms/step - loss: 0.0274 - acc: 0.9488 - val_loss: 0.0508 - val_acc: 0.9001\n",
      "Epoch 30/50\n",
      "500/500 [==============================] - 27s 54ms/step - loss: 0.0264 - acc: 0.9510 - val_loss: 0.0537 - val_acc: 0.8987\n",
      "Epoch 31/50\n",
      "500/500 [==============================] - 25s 51ms/step - loss: 0.0256 - acc: 0.9526 - val_loss: 0.0526 - val_acc: 0.8964\n",
      "Epoch 32/50\n",
      "500/500 [==============================] - 25s 51ms/step - loss: 0.0247 - acc: 0.9550 - val_loss: 0.0511 - val_acc: 0.9016\n",
      "Epoch 33/50\n",
      "500/500 [==============================] - 27s 54ms/step - loss: 0.0237 - acc: 0.9567 - val_loss: 0.0524 - val_acc: 0.9012\n",
      "Epoch 34/50\n",
      "500/500 [==============================] - 27s 54ms/step - loss: 0.0229 - acc: 0.9587 - val_loss: 0.0519 - val_acc: 0.9021\n",
      "Epoch 35/50\n",
      "500/500 [==============================] - 27s 55ms/step - loss: 0.0222 - acc: 0.9601 - val_loss: 0.0549 - val_acc: 0.8989\n",
      "Epoch 36/50\n",
      "500/500 [==============================] - 25s 51ms/step - loss: 0.0212 - acc: 0.9609 - val_loss: 0.0555 - val_acc: 0.8999\n",
      "Epoch 37/50\n",
      "500/500 [==============================] - 27s 54ms/step - loss: 0.0201 - acc: 0.9642 - val_loss: 0.0539 - val_acc: 0.9055\n",
      "Epoch 38/50\n",
      "500/500 [==============================] - 25s 50ms/step - loss: 0.0197 - acc: 0.9655 - val_loss: 0.0537 - val_acc: 0.9049\n",
      "Epoch 39/50\n",
      "500/500 [==============================] - 27s 55ms/step - loss: 0.0187 - acc: 0.9666 - val_loss: 0.0521 - val_acc: 0.9066\n",
      "Epoch 40/50\n",
      "500/500 [==============================] - 27s 54ms/step - loss: 0.0179 - acc: 0.9691 - val_loss: 0.0581 - val_acc: 0.8997\n",
      "Epoch 41/50\n",
      "500/500 [==============================] - 25s 50ms/step - loss: 0.0172 - acc: 0.9700 - val_loss: 0.0583 - val_acc: 0.8977\n",
      "Epoch 42/50\n",
      "500/500 [==============================] - 25s 51ms/step - loss: 0.0164 - acc: 0.9723 - val_loss: 0.0565 - val_acc: 0.9039\n",
      "Epoch 43/50\n",
      "500/500 [==============================] - 25s 50ms/step - loss: 0.0158 - acc: 0.9728 - val_loss: 0.0597 - val_acc: 0.8999\n",
      "Epoch 44/50\n",
      "500/500 [==============================] - 25s 50ms/step - loss: 0.0148 - acc: 0.9748 - val_loss: 0.0591 - val_acc: 0.9007\n",
      "Epoch 45/50\n",
      "500/500 [==============================] - 27s 54ms/step - loss: 0.0143 - acc: 0.9759 - val_loss: 0.0578 - val_acc: 0.9058\n",
      "Epoch 46/50\n",
      "500/500 [==============================] - 27s 54ms/step - loss: 0.0137 - acc: 0.9766 - val_loss: 0.0585 - val_acc: 0.9051\n",
      "Epoch 47/50\n",
      "500/500 [==============================] - 25s 51ms/step - loss: 0.0129 - acc: 0.9786 - val_loss: 0.0585 - val_acc: 0.9057\n",
      "Epoch 48/50\n",
      "500/500 [==============================] - 25s 50ms/step - loss: 0.0126 - acc: 0.9787 - val_loss: 0.0589 - val_acc: 0.9026\n",
      "Epoch 49/50\n",
      "500/500 [==============================] - 25s 50ms/step - loss: 0.0118 - acc: 0.9803 - val_loss: 0.0613 - val_acc: 0.9026\n",
      "Epoch 50/50\n",
      "500/500 [==============================] - 27s 54ms/step - loss: 0.0114 - acc: 0.9802 - val_loss: 0.0623 - val_acc: 0.9050\n"
     ]
    }
   ],
   "source": [
    "x_val = x_train[:10000]\n",
    "partial_x_train = x_train[10000:]\n",
    "\n",
    "y_val = y_train[:10000]\n",
    "partial_y_train = y_train[10000:]\n",
    "\n",
    "history = model.fit(\n",
    "    partial_x_train,\n",
    "    partial_y_train,\n",
    "    epochs=50,\n",
    "    batch_size=100,\n",
    "    validation_data=(x_val, y_val)\n",
    ")"
   ]
  },
  {
   "cell_type": "code",
   "execution_count": 10,
   "metadata": {
    "colab": {
     "base_uri": "https://localhost:8080/",
     "height": 590
    },
    "id": "9UkUnKMDny62",
    "outputId": "25ad4cbe-0096-4652-8dbe-428369e14594"
   },
   "outputs": [
    {
     "data": {
      "image/png": "[encoded data removed]",
      "text/plain": [
       "<Figure size 432x288 with 1 Axes>"
      ]
     },
     "metadata": {
      "needs_background": "light"
     },
     "output_type": "display_data"
    },
    {
     "data": {
      "text/plain": [
       "<matplotlib.legend.Legend at 0x7f0314a246d0>"
      ]
     },
     "execution_count": 10,
     "metadata": {},
     "output_type": "execute_result"
    },
    {
     "data": {
      "image/png": "[encoded data removed]",
      "text/plain": [
       "<Figure size 432x288 with 1 Axes>"
      ]
     },
     "metadata": {
      "needs_background": "light"
     },
     "output_type": "display_data"
    }
   ],
   "source": [
    "history_dict = history.history\n",
    "loss_values = history_dict['loss']\n",
    "val_loss_values = history_dict['val_loss']\n",
    "\n",
    "epochs = range(1, len(history_dict['acc']) + 1)\n",
    "\n",
    "plt.plot(epochs, loss_values, 'bo', label='Training loss')\n",
    "plt.plot(epochs, val_loss_values, 'b', label='Validation loss')\n",
    "plt.title('Training and validation loss')\n",
    "plt.xlabel('Epochs')\n",
    "plt.ylabel('Loss')\n",
    "plt.legend()\n",
    "plt.show()\n",
    "\n",
    "plt.clf()\n",
    "val_acc_values = history_dict['val_acc']\n",
    "plt.plot(epochs, history_dict['acc'], 'bo', label='Training acc')\n",
    "plt.plot(epochs, history_dict['val_acc'], 'b', label='Validation acc')\n",
    "plt.title('Training and validation accuracy')\n",
    "plt.xlabel('Epochs')\n",
    "plt.ylabel('accuracy')\n",
    "plt.legend()"
   ]
  },
  {
   "cell_type": "code",
   "execution_count": 11,
   "metadata": {
    "colab": {
     "base_uri": "https://localhost:8080/"
    },
    "id": "9ZP6Qin6CL5q",
    "outputId": "78692335-ad77-433b-f75c-b6444c0a98f0"
   },
   "outputs": [
    {
     "name": "stdout",
     "output_type": "stream",
     "text": [
      "313/313 [==============================] - 6s 15ms/step - loss: 0.0676 - acc: 0.8990\n",
      "[0.06763375550508499, 0.8989999890327454]\n"
     ]
    }
   ],
   "source": [
    "results = model.evaluate(x_test, y_test)\n",
    "print(results)"
   ]
  },
  {
   "cell_type": "code",
   "execution_count": null,
   "metadata": {
    "id": "YdfXYNIRHmwf"
   },
   "outputs": [],
   "source": []
  }
 ],
 "metadata": {
  "accelerator": "GPU",
  "colab": {
   "provenance": []
  },
  "gpuClass": "standard",
  "kernelspec": {
   "display_name": "Python 3 (ipykernel)",
   "language": "python",
   "name": "python3"
  },
  "language_info": {
   "codemirror_mode": {
    "name": "ipython",
    "version": 3
   },
   "file_extension": ".py",
   "mimetype": "text/x-python",
   "name": "python",
   "nbconvert_exporter": "python",
   "pygments_lexer": "ipython3",
   "version": "3.10.0"
  }
 },
 "nbformat": 4,
 "nbformat_minor": 4
}
